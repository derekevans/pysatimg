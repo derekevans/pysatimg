{
 "cells": [
  {
   "cell_type": "code",
   "execution_count": 1,
   "id": "856ebfdc-03f5-400d-85e2-c826e64f0afe",
   "metadata": {},
   "outputs": [
    {
     "name": "stdout",
     "output_type": "stream",
     "text": [
      "|                                        | ▅▇▇ 0/2 [0%] in 32s (~0s, 0.0/s) 0...10...20...30...40...50...60...70...80...90...100 - done.\n",
      "|████████████████████                    | ▂▄▆ 1/2 [50%] in 1:04 (~1:02, 0.0/s) 0...10...20...30...40...50...60...70...80...90...100 - done.\n",
      "|████████████████████████████████████████| 2/2 [100%] in 1:04.2 (0.02/s)        \n"
     ]
    }
   ],
   "source": [
    "import pysatimg\n",
    "import geopandas as gpd\n",
    "from datetime import date\n",
    "from shapely.geometry import box\n",
    "\n",
    "poly = box(306040, 4431910, 306830, 4432720)\n",
    "aoi = gpd.GeoSeries(poly, crs=\"EPSG:32616\")\n",
    "\n",
    "ext = pysatimg.Extractor(\n",
    "    source_name='sentinel-2-l2a', \n",
    "    aoi=aoi, \n",
    "    pixel_size=(10, -10), \n",
    "    out_dir='../pysatimg/data', \n",
    "    start_date=date(2023,7,4), \n",
    "    end_date=date(2023, 7,7), \n",
    "    assets=['blue', 'green', 'red', 'scl'],\n",
    "    n_threads=1\n",
    ")\n",
    "ext.extract()"
   ]
  },
  {
   "cell_type": "code",
   "execution_count": null,
   "id": "9946d213-b361-4fa3-aeb0-623fd5475585",
   "metadata": {},
   "outputs": [],
   "source": []
  }
 ],
 "metadata": {
  "kernelspec": {
   "display_name": "Python 3 (ipykernel)",
   "language": "python",
   "name": "python3"
  },
  "language_info": {
   "codemirror_mode": {
    "name": "ipython",
    "version": 3
   },
   "file_extension": ".py",
   "mimetype": "text/x-python",
   "name": "python",
   "nbconvert_exporter": "python",
   "pygments_lexer": "ipython3",
   "version": "3.11.5"
  }
 },
 "nbformat": 4,
 "nbformat_minor": 5
}
